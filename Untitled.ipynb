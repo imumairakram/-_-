{
 "cells": [
  {
   "cell_type": "markdown",
   "id": "286896c4-6cfc-48f2-967a-6bdab2633101",
   "metadata": {},
   "source": [
    "## Basic Analysis\n",
    "### 1. Dates of Reviews\n",
    "- What are the dates of the earliest and most recent reviews?"
   ]
  },
  {
   "cell_type": "code",
   "execution_count": 55,
   "id": "5c3b2de3-86d8-4211-bb2f-f2da0fc8de5c",
   "metadata": {},
   "outputs": [],
   "source": [
    "import pandas as pd\n",
    "\n",
    "reviews = pd.read_csv(\"airbnb_last_review.tsv\", sep='\\t')\n",
    "\n",
    "earliest_review = reviews['last_review'].min()\n",
    "most_recent_review = reviews['last_review'].max()\n"
   ]
  },
  {
   "cell_type": "code",
   "execution_count": 2,
   "id": "c419a152-43bd-4a9e-acfe-cd210bebe937",
   "metadata": {},
   "outputs": [
    {
     "name": "stdout",
     "output_type": "stream",
     "text": [
      "April 01 2019\n"
     ]
    }
   ],
   "source": [
    "print(earliest_review)"
   ]
  },
  {
   "cell_type": "code",
   "execution_count": 3,
   "id": "2b592019-0bfe-44bc-8f94-2010274d6a9c",
   "metadata": {},
   "outputs": [
    {
     "name": "stdout",
     "output_type": "stream",
     "text": [
      "May 31 2019\n"
     ]
    }
   ],
   "source": [
    "print(most_recent_review)"
   ]
  },
  {
   "cell_type": "markdown",
   "id": "e76ff3d1-5766-4a4e-b97d-01bdcda43efa",
   "metadata": {},
   "source": [
    "## 2. Private Room Listings\n",
    "- Count the number of private room listings."
   ]
  },
  {
   "cell_type": "code",
   "execution_count": 8,
   "id": "0347f191-0a02-4d86-97e1-c1ebf987ec76",
   "metadata": {},
   "outputs": [
    {
     "data": {
      "text/html": [
       "<div>\n",
       "<style scoped>\n",
       "    .dataframe tbody tr th:only-of-type {\n",
       "        vertical-align: middle;\n",
       "    }\n",
       "\n",
       "    .dataframe tbody tr th {\n",
       "        vertical-align: top;\n",
       "    }\n",
       "\n",
       "    .dataframe thead th {\n",
       "        text-align: right;\n",
       "    }\n",
       "</style>\n",
       "<table border=\"1\" class=\"dataframe\">\n",
       "  <thead>\n",
       "    <tr style=\"text-align: right;\">\n",
       "      <th></th>\n",
       "      <th>listing_id</th>\n",
       "      <th>description</th>\n",
       "      <th>room_type</th>\n",
       "    </tr>\n",
       "  </thead>\n",
       "  <tbody>\n",
       "    <tr>\n",
       "      <th>0</th>\n",
       "      <td>2595</td>\n",
       "      <td>Skylit Midtown Castle</td>\n",
       "      <td>Entire home/apt</td>\n",
       "    </tr>\n",
       "    <tr>\n",
       "      <th>1</th>\n",
       "      <td>3831</td>\n",
       "      <td>Cozy Entire Floor of Brownstone</td>\n",
       "      <td>Entire home/apt</td>\n",
       "    </tr>\n",
       "    <tr>\n",
       "      <th>2</th>\n",
       "      <td>5099</td>\n",
       "      <td>Large Cozy 1 BR Apartment In Midtown East</td>\n",
       "      <td>Entire home/apt</td>\n",
       "    </tr>\n",
       "    <tr>\n",
       "      <th>3</th>\n",
       "      <td>5178</td>\n",
       "      <td>Large Furnished Room Near B'way</td>\n",
       "      <td>private room</td>\n",
       "    </tr>\n",
       "    <tr>\n",
       "      <th>4</th>\n",
       "      <td>5238</td>\n",
       "      <td>Cute &amp; Cozy Lower East Side 1 bdrm</td>\n",
       "      <td>Entire home/apt</td>\n",
       "    </tr>\n",
       "    <tr>\n",
       "      <th>...</th>\n",
       "      <td>...</td>\n",
       "      <td>...</td>\n",
       "      <td>...</td>\n",
       "    </tr>\n",
       "    <tr>\n",
       "      <th>25204</th>\n",
       "      <td>36425863</td>\n",
       "      <td>Lovely Privet Bedroom with Privet Restroom</td>\n",
       "      <td>PRIVATE ROOM</td>\n",
       "    </tr>\n",
       "    <tr>\n",
       "      <th>25205</th>\n",
       "      <td>36427429</td>\n",
       "      <td>No.2 with queen size bed</td>\n",
       "      <td>PRIVATE ROOM</td>\n",
       "    </tr>\n",
       "    <tr>\n",
       "      <th>25206</th>\n",
       "      <td>36438336</td>\n",
       "      <td>Seas The Moment</td>\n",
       "      <td>Private room</td>\n",
       "    </tr>\n",
       "    <tr>\n",
       "      <th>25207</th>\n",
       "      <td>36442252</td>\n",
       "      <td>1B-1B apartment near by Metro</td>\n",
       "      <td>Entire home/apt</td>\n",
       "    </tr>\n",
       "    <tr>\n",
       "      <th>25208</th>\n",
       "      <td>36455809</td>\n",
       "      <td>Cozy Private Room in Bushwick, Brooklyn</td>\n",
       "      <td>Private room</td>\n",
       "    </tr>\n",
       "  </tbody>\n",
       "</table>\n",
       "<p>25209 rows × 3 columns</p>\n",
       "</div>"
      ],
      "text/plain": [
       "       listing_id                                 description        room_type\n",
       "0            2595                       Skylit Midtown Castle  Entire home/apt\n",
       "1            3831             Cozy Entire Floor of Brownstone  Entire home/apt\n",
       "2            5099   Large Cozy 1 BR Apartment In Midtown East  Entire home/apt\n",
       "3            5178             Large Furnished Room Near B'way     private room\n",
       "4            5238          Cute & Cozy Lower East Side 1 bdrm  Entire home/apt\n",
       "...           ...                                         ...              ...\n",
       "25204    36425863  Lovely Privet Bedroom with Privet Restroom     PRIVATE ROOM\n",
       "25205    36427429                    No.2 with queen size bed     PRIVATE ROOM\n",
       "25206    36438336                             Seas The Moment     Private room\n",
       "25207    36442252               1B-1B apartment near by Metro  Entire home/apt\n",
       "25208    36455809     Cozy Private Room in Bushwick, Brooklyn     Private room\n",
       "\n",
       "[25209 rows x 3 columns]"
      ]
     },
     "execution_count": 8,
     "metadata": {},
     "output_type": "execute_result"
    }
   ],
   "source": [
    "import pandas as pd\n",
    "\n",
    "room_types = pd.read_excel(\"airbnb_room_type.xlsx\")\n",
    "room_types"
   ]
  },
  {
   "cell_type": "code",
   "execution_count": 9,
   "id": "85e05e60-4c36-439a-b8cf-9878c6a06583",
   "metadata": {},
   "outputs": [
    {
     "data": {
      "text/plain": [
       "0        Entire home/apt\n",
       "1        Entire home/apt\n",
       "2        Entire home/apt\n",
       "3           private room\n",
       "4        Entire home/apt\n",
       "              ...       \n",
       "25204       PRIVATE ROOM\n",
       "25205       PRIVATE ROOM\n",
       "25206       Private room\n",
       "25207    Entire home/apt\n",
       "25208       Private room\n",
       "Name: room_type, Length: 25209, dtype: object"
      ]
     },
     "execution_count": 9,
     "metadata": {},
     "output_type": "execute_result"
    }
   ],
   "source": [
    "room_types['room_type']"
   ]
  },
  {
   "cell_type": "markdown",
   "id": "0b088563-cc7f-423c-8dcc-870ec69c2ac1",
   "metadata": {},
   "source": [
    "## 3. Average Price Calculation\n",
    "- Calculate the average listing price."
   ]
  },
  {
   "cell_type": "code",
   "execution_count": 18,
   "id": "e4d41848-6d3a-4559-9707-a63f8bb92976",
   "metadata": {},
   "outputs": [
    {
     "data": {
      "text/plain": [
       "141.7779364512674"
      ]
     },
     "execution_count": 18,
     "metadata": {},
     "output_type": "execute_result"
    }
   ],
   "source": [
    "import pandas as pd\n",
    "\n",
    "prices = pd.read_csv(\"airbnb_price.csv\")\n",
    "\n",
    "prices['price_cleaned'] = prices['price'].str.extract('(\\d+)').astype(float)\n",
    "\n",
    "average_price = prices['price_cleaned'].mean()\n",
    "average_price"
   ]
  },
  {
   "cell_type": "markdown",
   "id": "d5387c9e-3901-476b-99d5-18eb53047c3b",
   "metadata": {},
   "source": [
    "## 4. Summary Table\n",
    "- Combine calculated values into a DataFrame with one row."
   ]
  },
  {
   "cell_type": "code",
   "execution_count": 28,
   "id": "4511398b-f06a-4a5f-a5ef-e8c82a45ecaa",
   "metadata": {},
   "outputs": [
    {
     "data": {
      "text/html": [
       "<div>\n",
       "<style scoped>\n",
       "    .dataframe tbody tr th:only-of-type {\n",
       "        vertical-align: middle;\n",
       "    }\n",
       "\n",
       "    .dataframe tbody tr th {\n",
       "        vertical-align: top;\n",
       "    }\n",
       "\n",
       "    .dataframe thead th {\n",
       "        text-align: right;\n",
       "    }\n",
       "</style>\n",
       "<table border=\"1\" class=\"dataframe\">\n",
       "  <thead>\n",
       "    <tr style=\"text-align: right;\">\n",
       "      <th></th>\n",
       "      <th>earliest_review</th>\n",
       "      <th>most_recent_review</th>\n",
       "      <th>avg_price</th>\n",
       "    </tr>\n",
       "  </thead>\n",
       "  <tbody>\n",
       "    <tr>\n",
       "      <th>0</th>\n",
       "      <td>April 01 2019</td>\n",
       "      <td>May 31 2019</td>\n",
       "      <td>141.777936</td>\n",
       "    </tr>\n",
       "  </tbody>\n",
       "</table>\n",
       "</div>"
      ],
      "text/plain": [
       "  earliest_review most_recent_review   avg_price\n",
       "0   April 01 2019        May 31 2019  141.777936"
      ]
     },
     "execution_count": 28,
     "metadata": {},
     "output_type": "execute_result"
    }
   ],
   "source": [
    "import pandas as pd\n",
    "\n",
    "\n",
    "# Create the summary DataFrame\n",
    "summary = pd.DataFrame({\n",
    "    'earliest_review': [earliest_review],\n",
    "    'most_recent_review': [most_recent_review],\n",
    "    'avg_price': [average_price],\n",
    "    'private_room': [private_room]\n",
    "})\n",
    "\n",
    "summary\n"
   ]
  },
  {
   "cell_type": "markdown",
   "id": "a7362d33-f7f2-4544-a898-c4c8e9dca3f9",
   "metadata": {},
   "source": [
    "## Intermediate Analysis\n",
    "### 5. Neighborhood Trends\n",
    "- Identify the top 5 neighborhoods with the highest average prices."
   ]
  },
  {
   "cell_type": "code",
   "execution_count": 40,
   "id": "f0368fa4-5aea-47e2-8df5-675ba161f90b",
   "metadata": {},
   "outputs": [
    {
     "data": {
      "text/html": [
       "<div>\n",
       "<style scoped>\n",
       "    .dataframe tbody tr th:only-of-type {\n",
       "        vertical-align: middle;\n",
       "    }\n",
       "\n",
       "    .dataframe tbody tr th {\n",
       "        vertical-align: top;\n",
       "    }\n",
       "\n",
       "    .dataframe thead th {\n",
       "        text-align: right;\n",
       "    }\n",
       "</style>\n",
       "<table border=\"1\" class=\"dataframe\">\n",
       "  <thead>\n",
       "    <tr style=\"text-align: right;\">\n",
       "      <th></th>\n",
       "      <th>listing_id</th>\n",
       "      <th>price</th>\n",
       "      <th>nbhood_full</th>\n",
       "      <th>price_cleaned</th>\n",
       "    </tr>\n",
       "  </thead>\n",
       "  <tbody>\n",
       "    <tr>\n",
       "      <th>23916</th>\n",
       "      <td>34895693</td>\n",
       "      <td>7500 dollars</td>\n",
       "      <td>Brooklyn, East Flatbush</td>\n",
       "      <td>7500.0</td>\n",
       "    </tr>\n",
       "    <tr>\n",
       "      <th>22085</th>\n",
       "      <td>33397385</td>\n",
       "      <td>5100 dollars</td>\n",
       "      <td>Manhattan, Midtown</td>\n",
       "      <td>5100.0</td>\n",
       "    </tr>\n",
       "    <tr>\n",
       "      <th>18430</th>\n",
       "      <td>30035166</td>\n",
       "      <td>5000 dollars</td>\n",
       "      <td>Manhattan, Harlem</td>\n",
       "      <td>5000.0</td>\n",
       "    </tr>\n",
       "    <tr>\n",
       "      <th>21731</th>\n",
       "      <td>33029434</td>\n",
       "      <td>3613 dollars</td>\n",
       "      <td>Manhattan, Upper West Side</td>\n",
       "      <td>3613.0</td>\n",
       "    </tr>\n",
       "    <tr>\n",
       "      <th>12508</th>\n",
       "      <td>22263855</td>\n",
       "      <td>3000 dollars</td>\n",
       "      <td>Manhattan, SoHo</td>\n",
       "      <td>3000.0</td>\n",
       "    </tr>\n",
       "  </tbody>\n",
       "</table>\n",
       "</div>"
      ],
      "text/plain": [
       "       listing_id         price                 nbhood_full  price_cleaned\n",
       "23916    34895693  7500 dollars     Brooklyn, East Flatbush         7500.0\n",
       "22085    33397385  5100 dollars          Manhattan, Midtown         5100.0\n",
       "18430    30035166  5000 dollars           Manhattan, Harlem         5000.0\n",
       "21731    33029434  3613 dollars  Manhattan, Upper West Side         3613.0\n",
       "12508    22263855  3000 dollars             Manhattan, SoHo         3000.0"
      ]
     },
     "execution_count": 40,
     "metadata": {},
     "output_type": "execute_result"
    }
   ],
   "source": [
    "import pandas as pd\n",
    "\n",
    "prices = pd.read_csv(\"airbnb_price.csv\")\n",
    "\n",
    "prices['price_cleaned'] = prices['price'].str.extract('(\\d+)').astype(float)\n",
    "\n",
    "neighbourhood = prices.nlargest(5, 'price_cleaned')\n",
    "\n",
    "neighbourhood\n"
   ]
  },
  {
   "cell_type": "markdown",
   "id": "36a4d24e-357f-4743-bad1-de834ce9931f",
   "metadata": {},
   "source": [
    "## 6. Word Analysis in Descriptions\n",
    "- Find the top 10 most frequently used words in the description column."
   ]
  },
  {
   "cell_type": "code",
   "execution_count": 45,
   "id": "4dda8ad8-0f92-4784-a162-4884b20a7d32",
   "metadata": {},
   "outputs": [
    {
     "data": {
      "text/plain": [
       "[('room', 4762),\n",
       " ('private', 3974),\n",
       " ('bedroom', 3468),\n",
       " ('apartment', 2952),\n",
       " ('cozy', 2556),\n",
       " ('brooklyn', 1933),\n",
       " ('studio', 1848),\n",
       " ('apt', 1731),\n",
       " ('manhattan', 1673),\n",
       " ('spacious', 1560)]"
      ]
     },
     "execution_count": 45,
     "metadata": {},
     "output_type": "execute_result"
    }
   ],
   "source": [
    "import pandas as pd\n",
    "\n",
    "from collections import Counter\n",
    "from sklearn.feature_extraction.text import ENGLISH_STOP_WORDS\n",
    "\n",
    "room_types = pd.read_excel(\"airbnb_room_type.xlsx\")\n",
    "\n",
    "all_words = room_types['description'].str.lower().str.split().explode()\n",
    "filtered_words = [word for word in map(str, all_words) if word.isalpha() and word not in ENGLISH_STOP_WORDS]\n",
    "count = Counter(filtered_words)\n",
    "common_words = count.most_common(10)\n",
    "common_words"
   ]
  },
  {
   "cell_type": "markdown",
   "id": "a25d26e5-f312-428a-8b43-cabb9471a6d8",
   "metadata": {},
   "source": [
    "## Advanced Analysis\n",
    "### 7. Room Type Comparison\n",
    "- Compare average prices for each room type and create a bar chart."
   ]
  },
  {
   "cell_type": "code",
   "execution_count": 49,
   "id": "fe8288b7-6565-4576-9b48-f50e780e47a1",
   "metadata": {},
   "outputs": [],
   "source": [
    "import pandas as pd\n",
    "import matplotlib.pyplot as plt\n",
    "\n",
    "prices = pd.read_csv(\"airbnb_price.csv\")"
   ]
  },
  {
   "cell_type": "code",
   "execution_count": null,
   "id": "7565829c-efb4-4d02-a782-fd7bff9f77c8",
   "metadata": {},
   "outputs": [],
   "source": [
    "private_room = prices[\"room_type\"].value_counts()[\"PRIVATE ROOM\"]\n",
    "priv_avg = private_room.mean()\n",
    "priv_avg"
   ]
  },
  {
   "cell_type": "code",
   "execution_count": null,
   "id": "4f5d1b36-ca2c-432e-bce5-a505554522fd",
   "metadata": {},
   "outputs": [],
   "source": [
    "shared_room = prices[\"room_type\"].value_counts()[\"SHARED ROOM\"]\n",
    "room_avg = shared_room.mean()\n",
    "room_avg"
   ]
  },
  {
   "cell_type": "code",
   "execution_count": null,
   "id": "dbd33d0a-95fe-4c63-be28-9a382656a713",
   "metadata": {},
   "outputs": [],
   "source": [
    "entire_home = prices[\"room_type\"].value_counts()[\"Entire home/apt\"]\n",
    "home_avg = entire_home.mean()\n",
    "home_avg"
   ]
  },
  {
   "cell_type": "markdown",
   "id": "2671b364-d0ae-42d8-918b-804cd78f0f69",
   "metadata": {},
   "source": [
    "## 8. Trend Over Time\n",
    "- Plot the trend of reviews per month."
   ]
  },
  {
   "cell_type": "code",
   "execution_count": null,
   "id": "badf9b7f-9196-48d7-8ca0-0faff59d5159",
   "metadata": {},
   "outputs": [],
   "source": [
    "import pandas as pd\n",
    "import matplotlib.pyplot as plt\n",
    "\n",
    "reviews = pd.read_csv(\"airbnb_last_review.tsv\", sep='\\t')\n",
    "reviews['last_review'] = pd.to_datetime(reviews['last_review'], errors='coerce')\n",
    "\n",
    "reviews['month'] = reviews['last_review'].dt.to_period('M')\n",
    "monthly_reviews = reviews.groupby('month').size()\n",
    "\n",
    "monthly_reviews.plot(kind='line', figsize=(10, 6))\n",
    "plt.title('Trend of Reviews Over Time')\n",
    "plt.xlabel('Month')\n",
    "plt.ylabel('Number of Reviews')\n",
    "plt.show()\n"
   ]
  },
  {
   "cell_type": "markdown",
   "id": "79ec05a6-f128-4644-9464-4ab6aebc5390",
   "metadata": {},
   "source": [
    "### 9.Exploring Unique Matplotlib Functions\r\n",
    "Create a scatter plot with a regression line showing the relationship between price and the length of the description.\r\n",
    "Use matplotlib.axes.Axes.annotate to highlight outliers in the graph. (Note: Students should explore this function independently.)"
   ]
  },
  {
   "cell_type": "code",
   "execution_count": null,
   "id": "f3d91e95-a6d0-4202-a588-3bb62c0cfe0c",
   "metadata": {},
   "outputs": [],
   "source": [
    "import pandas as pd\n",
    "import matplotlib.pyplot as plt\n",
    "import numpy as np\n",
    "\n",
    "prices = pd.read_csv(\"airbnb_price.csv\")\n",
    "room_types = pd.read_excel(\"airbnb_room_type.xlsx\")\n",
    "\n",
    "merged_data = pd.merge(prices, room_types, on='listing_id')\n",
    "\n",
    "merged_data['description_length'] = merged_data['description'].str.len()\n",
    "\n",
    "x = merged_data['description_length']\n",
    "y = merged_data['price']\n",
    "\n",
    "coef = np.polyfit(x, y, 1)\n",
    "reg_line = np.poly1d(coef)\n",
    "\n",
    "plt.figure(figsize=(10, 6))\n",
    "plt.scatter(x, y, alpha=0.5, label=\"Data Points\")\n",
    "plt.plot(x, reg_line(x), color='red', label=\"Regression Line\")\n",
    "\n",
    "outliers = merged_data[merged_data['price'] > 500]\n",
    "for i, row in outliers.iterrows():\n",
    "    plt.annotate(f\"${row['price']}\", (row['description_length'], row['price']), \n",
    "                 textcoords=\"offset points\", xytext=(0, 10), ha='center')\n",
    "\n",
    "plt.title(\"Relationship Between Price and Description Length\")\n",
    "plt.xlabel(\"Description Length (Characters)\")\n",
    "plt.ylabel(\"Price (USD)\")\n",
    "plt.legend()\n",
    "plt.show()\n"
   ]
  },
  {
   "cell_type": "markdown",
   "id": "076f3364-cb54-4ee4-bc06-09d80b364e58",
   "metadata": {},
   "source": [
    "### 10. Exploring Unique Seaborn Functions\n",
    "\n",
    "Generate a strip plot for prices grouped by room_type using the hue parameter to distinguish neighborhoods.\n",
    "Students should explore the seaborn.stripplot function."
   ]
  },
  {
   "cell_type": "code",
   "execution_count": null,
   "id": "0cebedec-c808-41f6-867f-3f41c6bfddd5",
   "metadata": {},
   "outputs": [],
   "source": [
    "import seaborn as sns\n",
    "\n",
    "prices[['borough', 'neighborhood']] = prices['nbhood_full'].str.split(', ', expand=True)\n",
    "merged_data = pd.merge(prices, room_types, on='listing_id')\n",
    "\n",
    "plt.figure(figsize=(12, 6))\n",
    "sns.stripplot(\n",
    "    x='room_type',\n",
    "    y='price',\n",
    "    hue='borough',\n",
    "    data=merged_data,\n",
    "    jitter=True,\n",
    "    dodge=True,\n",
    "    alpha=0.7,\n",
    "    palette='Set2'\n",
    ")\n",
    "\n",
    "plt.title(\"Strip Plot of Prices Grouped by Room Type with Boroughs Highlighted\")\n",
    "plt.xlabel(\"Room Type\")\n",
    "plt.ylabel(\"Price (USD)\")\n",
    "plt.legend(title=\"Borough\", bbox_to_anchor=(1.05, 1), loc='upper left')\n",
    "plt.show()\n"
   ]
  },
  {
   "cell_type": "markdown",
   "id": "09216ec5-7bd8-43aa-bb31-743ab1440252",
   "metadata": {},
   "source": [
    "## Visualization Questions\n",
    "### 11. Bar Chart\n",
    "- Show the count of listings for each room type."
   ]
  },
  {
   "cell_type": "code",
   "execution_count": null,
   "id": "5ccebb34-491e-4504-85a9-300d0bfb9e32",
   "metadata": {},
   "outputs": [],
   "source": [
    "import pandas as pd\n",
    "import matplotlib.pyplot as plt\n",
    "\n",
    "room_type_counts = room_types['room_type'].value_counts()\n",
    "\n",
    "room_type_counts.plot(kind='bar', color=['cyan', 'magenta', 'yellow'])\n",
    "plt.title('Count of Listings by Room Type')\n",
    "plt.xlabel('Room Type')\n",
    "plt.ylabel('Count')\n",
    "plt.show()\n"
   ]
  },
  {
   "cell_type": "markdown",
   "id": "2f3373d8-a183-445f-9d8b-7d4840358c3a",
   "metadata": {},
   "source": [
    "### 12. Heatmap\n",
    "- Show the correlation between listing price and frequency of reviews."
   ]
  },
  {
   "cell_type": "code",
   "execution_count": null,
   "id": "8bc956cc-8836-404c-86bb-de127c030859",
   "metadata": {},
   "outputs": [],
   "source": [
    "import pandas as pd\n",
    "import seaborn as sns\n",
    "import matplotlib.pyplot as plt\n",
    "\n",
    "prices = pd.read_csv(\"airbnb_price.csv\")\n",
    "reviews = pd.read_csv(\"airbnb_last_review.tsv\", sep='\\t')\n",
    "reviews['last_review'] = pd.to_datetime(reviews['last_review'], errors='coerce')\n",
    "merged_data = pd.merge(prices, reviews, on='listing_id')\n",
    "\n",
    "correlation_data = merged_data[['price', 'last_review']].dropna()\n",
    "correlation_matrix = correlation_data.corr()\n",
    "\n",
    "sns.heatmap(correlation_matrix, annot=True, cmap='coolwarm')\n",
    "plt.title('Correlation Heatmap')\n",
    "plt.show()\n"
   ]
  },
  {
   "cell_type": "markdown",
   "id": "8419afa0-c852-4d07-8dfa-ad1b2b871b83",
   "metadata": {},
   "source": [
    "### 13. Pie Chart\n",
    "- Visualize the proportion of room types available."
   ]
  },
  {
   "cell_type": "code",
   "execution_count": null,
   "id": "2d8b48c8-01be-428b-902a-d7ed6cf55aa2",
   "metadata": {},
   "outputs": [],
   "source": [
    "room_type_counts.plot(kind='pie', autopct='%1.1f%%', colors=['skyblue', 'orange', 'green'])\n",
    "plt.title('Proportion of Room Types')\n",
    "plt.ylabel('')\n",
    "plt.show()"
   ]
  },
  {
   "cell_type": "markdown",
   "id": "0990aaf8-ad8c-485c-ac8c-edaf8669a52d",
   "metadata": {},
   "source": [
    "### 14. Histogram\n",
    "- Show the distribution of listing prices."
   ]
  },
  {
   "cell_type": "code",
   "execution_count": null,
   "id": "e68ff60d-275a-4cef-af98-842a2321a0e1",
   "metadata": {},
   "outputs": [],
   "source": [
    "prices['price'].plot(kind='hist', bins=20, color='purple', edgecolor='black')\n",
    "plt.title('Distribution of Listing Prices')\n",
    "plt.xlabel('Price (USD)')\n",
    "plt.ylabel('Frequency')\n",
    "plt.show()\n"
   ]
  },
  {
   "cell_type": "markdown",
   "id": "76c0ba77-aac3-4d95-b978-cc0216421832",
   "metadata": {},
   "source": [
    "### 15. Violin Plot\n",
    "- Compare price distributions across neighborhoods."
   ]
  },
  {
   "cell_type": "code",
   "execution_count": null,
   "id": "04765f50-9eb6-464a-b6af-48d770cde89f",
   "metadata": {},
   "outputs": [],
   "source": [
    "import seaborn\n",
    "df=pd.DataFrame({\"neighbourhood\":bnb_csv['nbhood_full'],\n",
    "                \"price\":bnb_csv['price']})\n",
    "# Set Seaborn style\n",
    "sns.set(style=\"whitegrid\")\n",
    "\n",
    "# Create the violin plot\n",
    "plt.figure(figsize=(10, 6))\n",
    "sns.violinplot(x='neighbourhood', y='price', data=df)\n",
    "\n",
    "# Customize the plot\n",
    "plt.title('Price Distribution Across Neighborhoods')\n",
    "plt.xlabel('Neighborhood')\n",
    "plt.ylabel('Price ($)')\n",
    "plt.xticks(rotation=45)  # Rotate the x-axis labels if needed\n",
    "plt.grid(True)\n",
    "\n",
    "# Show the plot\n",
    "plt.show()"
   ]
  }
 ],
 "metadata": {
  "kernelspec": {
   "display_name": "Python 3 (ipykernel)",
   "language": "python",
   "name": "python3"
  },
  "language_info": {
   "codemirror_mode": {
    "name": "ipython",
    "version": 3
   },
   "file_extension": ".py",
   "mimetype": "text/x-python",
   "name": "python",
   "nbconvert_exporter": "python",
   "pygments_lexer": "ipython3",
   "version": "3.11.7"
  }
 },
 "nbformat": 4,
 "nbformat_minor": 5
}
